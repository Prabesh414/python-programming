{
 "cells": [
  {
   "cell_type": "markdown",
   "metadata": {},
   "source": [
    "\n",
    "\n",
    "# Prabesh Sapkota\n",
    "\n"
   ]
  },
  {
   "cell_type": "markdown",
   "metadata": {},
   "source": [
    "# First Python Program"
   ]
  },
  {
   "cell_type": "markdown",
   "metadata": {},
   "source": [
    "This code assigns the string 'hello world' to the variable hello and prints its value, resulting in the output: hello world."
   ]
  },
  {
   "cell_type": "code",
   "execution_count": 3,
   "metadata": {},
   "outputs": [
    {
     "name": "stdout",
     "output_type": "stream",
     "text": [
      "hello world\n"
     ]
    }
   ],
   "source": [
    "\n",
    "hello = 'hello world'\n",
    "print(hello)"
   ]
  },
  {
   "cell_type": "markdown",
   "metadata": {},
   "source": [
    "# Print the Value of Pi\n"
   ]
  },
  {
   "cell_type": "markdown",
   "metadata": {},
   "source": [
    "\n",
    "This code assigns the value 3.14 to the variable pi, prints its value (3.14), and then prints the data type of pi."
   ]
  },
  {
   "cell_type": "code",
   "execution_count": 4,
   "metadata": {},
   "outputs": [
    {
     "name": "stdout",
     "output_type": "stream",
     "text": [
      "3.14\n",
      "<class 'float'>\n"
     ]
    }
   ],
   "source": [
    "\n",
    "pi=3.14\n",
    "print(pi)\n",
    "print(type(pi))\n"
   ]
  },
  {
   "cell_type": "markdown",
   "metadata": {},
   "source": [
    "# Arithematic Operation\n"
   ]
  },
  {
   "cell_type": "markdown",
   "metadata": {},
   "source": [
    "This code takes user input and performs basic arithematic operations."
   ]
  },
  {
   "cell_type": "code",
   "execution_count": 5,
   "metadata": {},
   "outputs": [
    {
     "name": "stdout",
     "output_type": "stream",
     "text": [
      "Sum: 5 Subtraction: 1 Product: 6 Division: 1.5 Remainder: 1\n"
     ]
    }
   ],
   "source": [
    "a = int(input('Enter the value of a: '))\n",
    "b = int(input('Enter the value of b: '))\n",
    "sum = a+b\n",
    "sub = a-b\n",
    "product = a*b\n",
    "division = a/b\n",
    "remainder = a%b\n",
    "print(\"Sum:\", sum, \"Subtraction:\", sub, \"Product:\", product, \"Division:\", division, \"Remainder:\", remainder)"
   ]
  },
  {
   "cell_type": "markdown",
   "metadata": {},
   "source": [
    "# String"
   ]
  },
  {
   "cell_type": "markdown",
   "metadata": {},
   "source": [
    "This code assigns the string 'Prabesh Sapkota' to the variable name, calculates its length, and extracts specific parts of the string as asked."
   ]
  },
  {
   "cell_type": "code",
   "execution_count": 6,
   "metadata": {},
   "outputs": [
    {
     "name": "stdout",
     "output_type": "stream",
     "text": [
      "Prabesh Sapkota\n",
      "15\n",
      "P\n",
      "Prabesh\n",
      "Sapkota\n"
     ]
    }
   ],
   "source": [
    "name = 'Prabesh Sapkota'\n",
    "print(name)\n",
    "total_no_of_chars = len(name)\n",
    "print(total_no_of_chars)\n",
    "\n",
    "#get first character\n",
    "first_char = name[0]\n",
    "print(first_char)\n",
    "#Get first and last name\n",
    "first_name = name[0:7]\n",
    "print(first_name)\n",
    "last_name = name[8:15]\n",
    "print(last_name)"
   ]
  },
  {
   "cell_type": "code",
   "execution_count": 7,
   "metadata": {},
   "outputs": [
    {
     "name": "stdout",
     "output_type": "stream",
     "text": [
      "Hari Prasad Sapkota\n"
     ]
    }
   ],
   "source": [
    "name = 'Hari Prasad Sapkota'\n",
    "f_name = name[:4]\n",
    "m_name = name[5:11]\n",
    "l_name = name[12:]\n",
    "print(f_name,m_name,last_name)"
   ]
  },
  {
   "cell_type": "markdown",
   "metadata": {},
   "source": [
    "# if/else/elif Statements"
   ]
  },
  {
   "cell_type": "markdown",
   "metadata": {},
   "source": [
    "This code asks for inter input and prints specific messages baased on the statements."
   ]
  },
  {
   "cell_type": "code",
   "execution_count": 8,
   "metadata": {},
   "outputs": [
    {
     "name": "stdout",
     "output_type": "stream",
     "text": [
      "GOOD NIGHT\n",
      "ITS SATURDAY\n"
     ]
    }
   ],
   "source": [
    "day = int(input('Enter the day'))\n",
    "if day ==1:\n",
    "    print(\"GOOD MORNING\")\n",
    "elif day == 3:\n",
    "    print(\"GOOD NIGHT\")\n",
    "if day == 5:\n",
    "    print(\"ITS FRIDAY\")\n",
    "else:\n",
    "    print(\"ITS SATURDAY\")\n",
    "\n"
   ]
  },
  {
   "cell_type": "code",
   "execution_count": 9,
   "metadata": {},
   "outputs": [
    {
     "name": "stdout",
     "output_type": "stream",
     "text": [
      "Odd\n"
     ]
    }
   ],
   "source": [
    "number = int(input('Enter the number'))\n",
    "if number %2 == 0:\n",
    "    print(\"Even\")\n",
    "else:\n",
    "    print(\"Odd\")"
   ]
  },
  {
   "cell_type": "code",
   "execution_count": 10,
   "metadata": {},
   "outputs": [
    {
     "name": "stdout",
     "output_type": "stream",
     "text": [
      "Getting Ready\n"
     ]
    }
   ],
   "source": [
    "time = int(input('Enter the time'))\n",
    "if time >=10 and time <12:\n",
    "    print(\"Python\")\n",
    "elif time >=12 and time<14:\n",
    "    print(\"Dsa\")\n",
    "elif time >= 14 and time <16:\n",
    "    print(\"English\")\n",
    "else:\n",
    "    print(\"Getting Ready\")"
   ]
  },
  {
   "cell_type": "code",
   "execution_count": 11,
   "metadata": {},
   "outputs": [
    {
     "name": "stdout",
     "output_type": "stream",
     "text": [
      "The cable car price is Rs. 50\n"
     ]
    }
   ],
   "source": [
    "Nationality = str(input('Enter the nationality'))\n",
    "if Nationality.lower() == \"Nepalese\" or \"Indian\":\n",
    "    print(\"The cable car price is Rs. 50\")\n",
    "else:\n",
    "    print(\"The cable car price is rs 100\")"
   ]
  },
  {
   "cell_type": "markdown",
   "metadata": {},
   "source": [
    "## WHILE LOOP"
   ]
  },
  {
   "cell_type": "markdown",
   "metadata": {},
   "source": [
    "This code uses a while loop to print \"Hello\" and the value of COUNTER as long as the COUNTER stays in the stated condition."
   ]
  },
  {
   "cell_type": "code",
   "execution_count": 12,
   "metadata": {},
   "outputs": [
    {
     "name": "stdout",
     "output_type": "stream",
     "text": [
      "Hello\n",
      "0\n",
      "Hello\n",
      "1\n"
     ]
    }
   ],
   "source": [
    "COUNTER = 0\n",
    "while COUNTER<2:\n",
    "    print(\"Hello\")\n",
    "    print(COUNTER)\n",
    "    COUNTER +=1\n"
   ]
  },
  {
   "cell_type": "code",
   "execution_count": 13,
   "metadata": {},
   "outputs": [
    {
     "name": "stdout",
     "output_type": "stream",
     "text": [
      "Hello\n",
      "10\n",
      "Hello\n",
      "9\n",
      "Hello\n",
      "8\n",
      "Hello\n",
      "7\n",
      "Hello\n",
      "6\n",
      "Hello\n",
      "5\n",
      "Hello\n",
      "4\n",
      "Hello\n",
      "3\n",
      "Hello\n",
      "2\n",
      "Hello\n",
      "1\n"
     ]
    }
   ],
   "source": [
    "COUNTER = 10\n",
    "while COUNTER >=1:\n",
    "    print(\"Hello\")\n",
    "    print(COUNTER)\n",
    "    COUNTER -=1\n"
   ]
  },
  {
   "cell_type": "markdown",
   "metadata": {},
   "source": [
    "# Sum of first 100 natural numbers"
   ]
  },
  {
   "cell_type": "markdown",
   "metadata": {},
   "source": [
    "This code effectively demonstrates how to calculate the sum of a range of integers using a simple iterative approach with a while loop."
   ]
  },
  {
   "cell_type": "code",
   "execution_count": 14,
   "metadata": {},
   "outputs": [
    {
     "name": "stdout",
     "output_type": "stream",
     "text": [
      "5050\n"
     ]
    }
   ],
   "source": [
    "# Initialize variables\n",
    "#n = 1\n",
    "#sum_of_natural_numbers = 0\n",
    "#while n <= 100:\n",
    "    #sum_of_natural_numbers += n\n",
    "    #n += 1\n",
    "\n",
    "\n",
    "#print(\"The sum of the first 100 natural numbers is:\", sum_of_natural_numbers)\n",
    "\n",
    "n=100\n",
    "counter=0\n",
    "sum=0\n",
    "while counter <=n:\n",
    "    sum += counter\n",
    "    counter+=1\n",
    "print(sum)\n"
   ]
  },
  {
   "cell_type": "markdown",
   "metadata": {},
   "source": [
    "# Print Even Numbers only"
   ]
  },
  {
   "cell_type": "code",
   "execution_count": 15,
   "metadata": {},
   "outputs": [
    {
     "name": "stdout",
     "output_type": "stream",
     "text": [
      "2550\n"
     ]
    }
   ],
   "source": [
    "n=100\n",
    "counter=1\n",
    "sum=0\n",
    "while counter <=n:\n",
    "    if counter%2==0:\n",
    "        sum += counter\n",
    "    counter+=1\n",
    "print(sum)"
   ]
  },
  {
   "cell_type": "markdown",
   "metadata": {},
   "source": [
    "# Reverse the String\n"
   ]
  },
  {
   "cell_type": "markdown",
   "metadata": {},
   "source": [
    "This code initializes a provided string ADDRESS, calculates its length minus one to get the last index. Then, it uses a while loop to concatenate characters from the end of the string to the beginning to reverse it."
   ]
  },
  {
   "cell_type": "code",
   "execution_count": 16,
   "metadata": {},
   "outputs": [
    {
     "name": "stdout",
     "output_type": "stream",
     "text": [
      "10\n",
      "rowhsekaraT\n"
     ]
    }
   ],
   "source": [
    "ADDRESS = \"Tarakeshwor\"\n",
    "length =  len(ADDRESS)-1\n",
    "reversed_string = ''\n",
    "print(length)\n",
    "while length>=0:\n",
    "    reversed_string += ADDRESS[length]\n",
    "    length-=1\n",
    "print(reversed_string)"
   ]
  },
  {
   "cell_type": "markdown",
   "metadata": {},
   "source": [
    "# Append, Pop, And Remove"
   ]
  },
  {
   "cell_type": "markdown",
   "metadata": {},
   "source": [
    "This code demonstrates various list operations in Python, including adding, removing elements, accessing specific items, and counting the total number of items in the list."
   ]
  },
  {
   "cell_type": "code",
   "execution_count": 17,
   "metadata": {},
   "outputs": [
    {
     "name": "stdout",
     "output_type": "stream",
     "text": [
      "[1, 2, 3, 4, 5, 5, 10, 100]\n",
      "[1, 3, 4, 5, 5, 10, 100]\n",
      "[1, 3, 5, 5, 10, 100]\n",
      "1\n",
      "3\n",
      "6\n",
      "100\n"
     ]
    }
   ],
   "source": [
    "numbers = [1,2,3,4,5,5,10]\n",
    "students = ['Ram','Hari']\n",
    "\n",
    "numbers.append(100) #Adds number in the last\n",
    "print (numbers)\n",
    "\n",
    "numbers.pop(1) #Removes index wise\n",
    "print (numbers)\n",
    "\n",
    "numbers.remove (4) #Removes the item\n",
    "print (numbers)\n",
    "\n",
    "\n",
    "# access elements from list\n",
    "first_number = numbers [0]\n",
    "print (first_number)\n",
    "second_number = numbers [1]\n",
    "print (second_number)\n",
    "# count total number of items\n",
    "total_items = len (numbers)\n",
    "print (total_items)\n",
    "# last element\n",
    "last_element = numbers[total_items -1]\n",
    "print (last_element)"
   ]
  },
  {
   "cell_type": "markdown",
   "metadata": {},
   "source": [
    "This code further checks if any value exists."
   ]
  },
  {
   "cell_type": "code",
   "execution_count": 18,
   "metadata": {},
   "outputs": [
    {
     "name": "stdout",
     "output_type": "stream",
     "text": [
      "6 5\n",
      "['Ram', 'Hari']\n",
      "Ram exist in a\n"
     ]
    }
   ],
   "source": [
    "\n",
    "a = 5\n",
    "b = a\n",
    "a = a+1\n",
    "print (a,b)\n",
    "\n",
    "\n",
    "\n",
    "a = ['Ram', 'Hari']\n",
    "b = a.copy()\n",
    "a. append ('Gopal')\n",
    "print (b)\n",
    "# check value exist in list\n",
    "if 'Ram' in a:\n",
    "    print('Ram exist in a')"
   ]
  },
  {
   "cell_type": "markdown",
   "metadata": {},
   "source": [
    "## Loop through list"
   ]
  },
  {
   "cell_type": "code",
   "execution_count": 19,
   "metadata": {},
   "outputs": [
    {
     "name": "stdout",
     "output_type": "stream",
     "text": [
      "27\n"
     ]
    }
   ],
   "source": [
    "# find the sum of all items of given lists\n",
    "numbers = [1,2,3,4,5,6,6]\n",
    "total_items = len (numbers)\n",
    "index = 0\n",
    "sum = 0\n",
    "while index<total_items:\n",
    "    sum += numbers[index] \n",
    "    \n",
    "    index+=1\n",
    "print (sum)\n",
    "\n",
    "#max value from the list\n",
    "# max_value = max(numbers)\n",
    "# print(\"Maximum value:\", max_value)\n",
    "#min value from the list\n",
    "# min_value = min(numbers)\n",
    "# print(\"Maximum value:\", min_value)\n",
    "\n",
    "\n"
   ]
  },
  {
   "cell_type": "markdown",
   "metadata": {},
   "source": [
    "## MAXIMUM AND MINIMUM VALUES"
   ]
  },
  {
   "cell_type": "markdown",
   "metadata": {},
   "source": [
    "This code iterates through the number list one value at once and keeps on updating the value until the maximum or minimum value is found (according to the question)"
   ]
  },
  {
   "cell_type": "code",
   "execution_count": 20,
   "metadata": {},
   "outputs": [
    {
     "name": "stdout",
     "output_type": "stream",
     "text": [
      "6\n"
     ]
    }
   ],
   "source": [
    "numbers = [1,2,3,4,5,6,6]\n",
    "total_items = len (numbers)\n",
    "\n",
    "index = 0\n",
    "max_value = numbers[0]\n",
    "while index<total_items:\n",
    "    element = numbers[index]\n",
    "    if element > max_value:\n",
    "        max_value = element\n",
    "    index+=1\n",
    "print (max_value)\n",
    "\n",
    "\n",
    "#max value from the list\n",
    "# max_value = max(numbers)\n",
    "# print(\"Maximum value:\", max_value)\n",
    "#min value from the list\n",
    "# min_value = min(numbers)\n",
    "# print(\"Maximum value:\", min_value)"
   ]
  },
  {
   "cell_type": "markdown",
   "metadata": {},
   "source": [
    "# Filter Values"
   ]
  },
  {
   "cell_type": "markdown",
   "metadata": {},
   "source": [
    "This code creates new list based on the given condition."
   ]
  },
  {
   "cell_type": "code",
   "execution_count": 21,
   "metadata": {},
   "outputs": [
    {
     "name": "stdout",
     "output_type": "stream",
     "text": [
      "['Hari', 'Gopal']\n"
     ]
    }
   ],
   "source": [
    "students = ['Ram', 'Hari', 'Gopal']\n",
    "filtered_students = [student for student in students if student !='Ram']\n",
    "print(filtered_students)\n",
    "                    "
   ]
  },
  {
   "cell_type": "markdown",
   "metadata": {},
   "source": [
    "# Print Even Numbers From a List"
   ]
  },
  {
   "cell_type": "markdown",
   "metadata": {},
   "source": [
    "This code creates new list based on the given condition."
   ]
  },
  {
   "cell_type": "code",
   "execution_count": 22,
   "metadata": {},
   "outputs": [
    {
     "name": "stdout",
     "output_type": "stream",
     "text": [
      "[2, 4, 6, 6]\n"
     ]
    }
   ],
   "source": [
    "numbers = [1,2,3,4,5,6,6]\n",
    "even_numbers = [number for number in numbers if number %2==0]\n",
    "print(even_numbers)"
   ]
  }
 ],
 "metadata": {
  "kernelspec": {
   "display_name": "base",
   "language": "python",
   "name": "python3"
  },
  "language_info": {
   "codemirror_mode": {
    "name": "ipython",
    "version": 3
   },
   "file_extension": ".py",
   "mimetype": "text/x-python",
   "name": "python",
   "nbconvert_exporter": "python",
   "pygments_lexer": "ipython3",
   "version": "3.12.4"
  }
 },
 "nbformat": 4,
 "nbformat_minor": 2
}
